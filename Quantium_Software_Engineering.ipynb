{
 "cells": [
  {
   "cell_type": "markdown",
   "id": "b41f3a4d",
   "metadata": {},
   "source": [
    "# Importing Libraries"
   ]
  },
  {
   "cell_type": "code",
   "execution_count": 63,
   "id": "30723e5a",
   "metadata": {},
   "outputs": [],
   "source": [
    "import dash\n",
    "from dash import html, dcc, Input, Output, callback\n",
    "import plotly.express as px\n",
    "import pytest"
   ]
  },
  {
   "cell_type": "code",
   "execution_count": 42,
   "id": "097d917b",
   "metadata": {},
   "outputs": [],
   "source": [
    "dataset = pd.read_excel(\"./data/dataset.xlsx\");"
   ]
  },
  {
   "cell_type": "code",
   "execution_count": 43,
   "id": "819b6973",
   "metadata": {},
   "outputs": [
    {
     "data": {
      "text/html": [
       "<div>\n",
       "<style scoped>\n",
       "    .dataframe tbody tr th:only-of-type {\n",
       "        vertical-align: middle;\n",
       "    }\n",
       "\n",
       "    .dataframe tbody tr th {\n",
       "        vertical-align: top;\n",
       "    }\n",
       "\n",
       "    .dataframe thead th {\n",
       "        text-align: right;\n",
       "    }\n",
       "</style>\n",
       "<table border=\"1\" class=\"dataframe\">\n",
       "  <thead>\n",
       "    <tr style=\"text-align: right;\">\n",
       "      <th></th>\n",
       "      <th>product</th>\n",
       "      <th>price</th>\n",
       "      <th>quantity</th>\n",
       "      <th>total sales</th>\n",
       "      <th>date</th>\n",
       "      <th>region</th>\n",
       "    </tr>\n",
       "  </thead>\n",
       "  <tbody>\n",
       "    <tr>\n",
       "      <th>0</th>\n",
       "      <td>pink morsel</td>\n",
       "      <td>3</td>\n",
       "      <td>546</td>\n",
       "      <td>1638</td>\n",
       "      <td>2018-02-06</td>\n",
       "      <td>north</td>\n",
       "    </tr>\n",
       "    <tr>\n",
       "      <th>1</th>\n",
       "      <td>pink morsel</td>\n",
       "      <td>3</td>\n",
       "      <td>549</td>\n",
       "      <td>1647</td>\n",
       "      <td>2018-02-06</td>\n",
       "      <td>south</td>\n",
       "    </tr>\n",
       "    <tr>\n",
       "      <th>2</th>\n",
       "      <td>pink morsel</td>\n",
       "      <td>3</td>\n",
       "      <td>577</td>\n",
       "      <td>1731</td>\n",
       "      <td>2018-02-06</td>\n",
       "      <td>east</td>\n",
       "    </tr>\n",
       "    <tr>\n",
       "      <th>3</th>\n",
       "      <td>pink morsel</td>\n",
       "      <td>3</td>\n",
       "      <td>519</td>\n",
       "      <td>1557</td>\n",
       "      <td>2018-02-06</td>\n",
       "      <td>west</td>\n",
       "    </tr>\n",
       "    <tr>\n",
       "      <th>4</th>\n",
       "      <td>pink morsel</td>\n",
       "      <td>3</td>\n",
       "      <td>529</td>\n",
       "      <td>1587</td>\n",
       "      <td>2018-02-07</td>\n",
       "      <td>north</td>\n",
       "    </tr>\n",
       "  </tbody>\n",
       "</table>\n",
       "</div>"
      ],
      "text/plain": [
       "       product  price  quantity  total sales       date region\n",
       "0  pink morsel      3       546         1638 2018-02-06  north\n",
       "1  pink morsel      3       549         1647 2018-02-06  south\n",
       "2  pink morsel      3       577         1731 2018-02-06   east\n",
       "3  pink morsel      3       519         1557 2018-02-06   west\n",
       "4  pink morsel      3       529         1587 2018-02-07  north"
      ]
     },
     "execution_count": 43,
     "metadata": {},
     "output_type": "execute_result"
    }
   ],
   "source": [
    "dataset.head()"
   ]
  },
  {
   "cell_type": "markdown",
   "id": "7fa35fa4",
   "metadata": {},
   "source": [
    "# Preparing Datasets"
   ]
  },
  {
   "cell_type": "code",
   "execution_count": 44,
   "id": "c1acd46a",
   "metadata": {},
   "outputs": [],
   "source": [
    "df = pd.DataFrame(dataset)"
   ]
  },
  {
   "cell_type": "code",
   "execution_count": 45,
   "id": "4ecf6d06",
   "metadata": {},
   "outputs": [
    {
     "data": {
      "text/html": [
       "<div>\n",
       "<style scoped>\n",
       "    .dataframe tbody tr th:only-of-type {\n",
       "        vertical-align: middle;\n",
       "    }\n",
       "\n",
       "    .dataframe tbody tr th {\n",
       "        vertical-align: top;\n",
       "    }\n",
       "\n",
       "    .dataframe thead th {\n",
       "        text-align: right;\n",
       "    }\n",
       "</style>\n",
       "<table border=\"1\" class=\"dataframe\">\n",
       "  <thead>\n",
       "    <tr style=\"text-align: right;\">\n",
       "      <th></th>\n",
       "      <th>total sales</th>\n",
       "      <th>date</th>\n",
       "      <th>region</th>\n",
       "    </tr>\n",
       "  </thead>\n",
       "  <tbody>\n",
       "    <tr>\n",
       "      <th>0</th>\n",
       "      <td>1638</td>\n",
       "      <td>2018-02-06</td>\n",
       "      <td>north</td>\n",
       "    </tr>\n",
       "    <tr>\n",
       "      <th>1</th>\n",
       "      <td>1647</td>\n",
       "      <td>2018-02-06</td>\n",
       "      <td>south</td>\n",
       "    </tr>\n",
       "    <tr>\n",
       "      <th>2</th>\n",
       "      <td>1731</td>\n",
       "      <td>2018-02-06</td>\n",
       "      <td>east</td>\n",
       "    </tr>\n",
       "    <tr>\n",
       "      <th>3</th>\n",
       "      <td>1557</td>\n",
       "      <td>2018-02-06</td>\n",
       "      <td>west</td>\n",
       "    </tr>\n",
       "    <tr>\n",
       "      <th>4</th>\n",
       "      <td>1587</td>\n",
       "      <td>2018-02-07</td>\n",
       "      <td>north</td>\n",
       "    </tr>\n",
       "  </tbody>\n",
       "</table>\n",
       "</div>"
      ],
      "text/plain": [
       "   total sales       date region\n",
       "0         1638 2018-02-06  north\n",
       "1         1647 2018-02-06  south\n",
       "2         1731 2018-02-06   east\n",
       "3         1557 2018-02-06   west\n",
       "4         1587 2018-02-07  north"
      ]
     },
     "execution_count": 45,
     "metadata": {},
     "output_type": "execute_result"
    }
   ],
   "source": [
    "df = df[['total sales', 'date', 'region']]\n",
    "df.head()"
   ]
  },
  {
   "cell_type": "code",
   "execution_count": 46,
   "id": "077a46cf",
   "metadata": {},
   "outputs": [
    {
     "data": {
      "text/html": [
       "<div>\n",
       "<style scoped>\n",
       "    .dataframe tbody tr th:only-of-type {\n",
       "        vertical-align: middle;\n",
       "    }\n",
       "\n",
       "    .dataframe tbody tr th {\n",
       "        vertical-align: top;\n",
       "    }\n",
       "\n",
       "    .dataframe thead th {\n",
       "        text-align: right;\n",
       "    }\n",
       "</style>\n",
       "<table border=\"1\" class=\"dataframe\">\n",
       "  <thead>\n",
       "    <tr style=\"text-align: right;\">\n",
       "      <th></th>\n",
       "      <th>total sales</th>\n",
       "    </tr>\n",
       "    <tr>\n",
       "      <th>date</th>\n",
       "      <th></th>\n",
       "    </tr>\n",
       "  </thead>\n",
       "  <tbody>\n",
       "    <tr>\n",
       "      <th>2018-02-06</th>\n",
       "      <td>6573</td>\n",
       "    </tr>\n",
       "    <tr>\n",
       "      <th>2018-02-07</th>\n",
       "      <td>6462</td>\n",
       "    </tr>\n",
       "    <tr>\n",
       "      <th>2018-02-08</th>\n",
       "      <td>6342</td>\n",
       "    </tr>\n",
       "    <tr>\n",
       "      <th>2018-02-09</th>\n",
       "      <td>6717</td>\n",
       "    </tr>\n",
       "    <tr>\n",
       "      <th>2018-02-10</th>\n",
       "      <td>6543</td>\n",
       "    </tr>\n",
       "  </tbody>\n",
       "</table>\n",
       "</div>"
      ],
      "text/plain": [
       "            total sales\n",
       "date                   \n",
       "2018-02-06         6573\n",
       "2018-02-07         6462\n",
       "2018-02-08         6342\n",
       "2018-02-09         6717\n",
       "2018-02-10         6543"
      ]
     },
     "execution_count": 46,
     "metadata": {},
     "output_type": "execute_result"
    }
   ],
   "source": [
    "df_sales = pd.pivot_table(df, values = ['total sales'], index = 'date', aggfunc = np.sum, sort = True)\n",
    "df_sales.head()"
   ]
  },
  {
   "cell_type": "code",
   "execution_count": 47,
   "id": "9f312322",
   "metadata": {},
   "outputs": [],
   "source": [
    "fig = px.line(df_sales, x = df_sales.index, y = 'total sales')"
   ]
  },
  {
   "cell_type": "markdown",
   "id": "902ab782",
   "metadata": {},
   "source": [
    "# Data Visualisation"
   ]
  },
  {
   "cell_type": "code",
   "execution_count": 48,
   "id": "614d1c0b",
   "metadata": {},
   "outputs": [
    {
     "data": {
      "text/html": [
       "\n",
       "        <iframe\n",
       "            width=\"100%\"\n",
       "            height=\"650\"\n",
       "            src=\"http://127.0.0.1:8050/\"\n",
       "            frameborder=\"0\"\n",
       "            allowfullscreen\n",
       "            \n",
       "        ></iframe>\n",
       "        "
      ],
      "text/plain": [
       "<IPython.lib.display.IFrame at 0x7f7d36474b20>"
      ]
     },
     "metadata": {},
     "output_type": "display_data"
    }
   ],
   "source": [
    "# initialise app\n",
    "app = Dash(__name__)\n",
    "\n",
    "colors = {\n",
    "    'background': '#111111',\n",
    "    'text': '#000080'\n",
    "}\n",
    "\n",
    "# app layout\n",
    "app.layout = html.Div([\n",
    "    html.H1(\n",
    "        children='Daily Total Sales [2018 - 2022]',\n",
    "        style={\n",
    "            'textAlign': 'center',\n",
    "            'color': colors['text']\n",
    "        }\n",
    "    ),\n",
    "    \n",
    "    dcc.Graph(\n",
    "            figure = fig\n",
    "    )\n",
    "])\n",
    "\n",
    "# run the app\n",
    "if __name__ == '__main__':\n",
    "    app.run(debug=True)"
   ]
  },
  {
   "cell_type": "markdown",
   "id": "30ba188a",
   "metadata": {},
   "source": [
    "## Creating An Interactive Filter"
   ]
  },
  {
   "cell_type": "code",
   "execution_count": 49,
   "id": "f23382da",
   "metadata": {},
   "outputs": [
    {
     "data": {
      "text/html": [
       "\n",
       "        <iframe\n",
       "            width=\"100%\"\n",
       "            height=\"650\"\n",
       "            src=\"http://127.0.0.1:8050/\"\n",
       "            frameborder=\"0\"\n",
       "            allowfullscreen\n",
       "            \n",
       "        ></iframe>\n",
       "        "
      ],
      "text/plain": [
       "<IPython.lib.display.IFrame at 0x7f7d3668a6d0>"
      ]
     },
     "metadata": {},
     "output_type": "display_data"
    }
   ],
   "source": [
    "# initialise app\n",
    "app = Dash(__name__)\n",
    "\n",
    "colors = {\n",
    "    'background': '#111111',\n",
    "    'text': '#000080'\n",
    "}\n",
    "\n",
    "# app layout\n",
    "app.layout = html.Div([\n",
    "    html.H1(\n",
    "        children='Daily Total Sales by Region [2018 - 2022]',\n",
    "        style={\n",
    "            'textAlign': 'center',\n",
    "            'color': colors['text']\n",
    "        },\n",
    "        id = 'header'\n",
    "    ),\n",
    "    \n",
    "    html.Div([\n",
    "            dcc.Graph(figure = px.line(df, x = 'date', y = 'total sales'), id = 'my-output'),\n",
    "            dcc.RadioItems(\n",
    "                options=[\n",
    "                {'label': 'North', 'value': 'north'},\n",
    "                {'label': 'South', 'value': 'south'},\n",
    "                {'label': 'East', 'value': 'east'},\n",
    "                {'label': 'West', 'value': 'west'},\n",
    "                {'label': 'All', 'value': 'all'}\n",
    "            ],\n",
    "                value='all', # default value\n",
    "                id='my-input',\n",
    "                inline=True\n",
    "            )\n",
    "        ], style={'width': '100%', 'float': 'center', 'display': 'inline-block'})\n",
    "])\n",
    "\n",
    "\n",
    "@callback(\n",
    "    Output('my-output', 'figure'),\n",
    "    Input('my-input', 'value'))\n",
    "def update_graph(region):\n",
    "    if region == 'all':\n",
    "        filtered_df = df_sales\n",
    "        fig = px.line(filtered_df, x = filtered_df.index, y = 'total sales')\n",
    "    else:\n",
    "        filtered_df = df[df['region'] == region]\n",
    "        fig = px.line(filtered_df, x = 'date', y = 'total sales')\n",
    "\n",
    "    fig.update_layout(transition_duration=500)\n",
    "\n",
    "    return fig\n",
    "\n",
    "# run the app\n",
    "if __name__ == '__main__':\n",
    "    app.run(debug=True)"
   ]
  },
  {
   "cell_type": "markdown",
   "id": "d3475909",
   "metadata": {},
   "source": [
    "# Unit Testing"
   ]
  },
  {
   "cell_type": "code",
   "execution_count": 85,
   "id": "99981e39",
   "metadata": {},
   "outputs": [
    {
     "name": "stdout",
     "output_type": "stream",
     "text": [
      "Header is: Daily Total Sales by Region [2018 - 2022]\n",
      "Header presence test passed!\n"
     ]
    }
   ],
   "source": [
    "def test_header_presence():    \n",
    "    header_element = app.layout.children[0]  # Assuming header is the first child of the layout\n",
    "    assert isinstance(header_element, html.H1)\n",
    "    assert 'header' in header_element.id\n",
    "    \n",
    "    print(\"Header is: \" + header_element.children)\n",
    "    print(\"Header presence test passed!\")\n",
    "\n",
    "test_header_presence()"
   ]
  },
  {
   "cell_type": "code",
   "execution_count": 90,
   "id": "ba7b86c4",
   "metadata": {},
   "outputs": [
    {
     "name": "stdout",
     "output_type": "stream",
     "text": [
      "Graph presence test passed!\n"
     ]
    }
   ],
   "source": [
    "def test_graph_presence():\n",
    "    graph_element = app.layout.children[1].children[0]  # Assuming the graph is the second child of the second div\n",
    "    assert isinstance(graph_element, dcc.Graph)\n",
    "    assert 'my-output' in graph_element.id\n",
    "    \n",
    "    print(\"Graph presence test passed!\")\n",
    "\n",
    "test_graph_presence()"
   ]
  }
 ],
 "metadata": {
  "kernelspec": {
   "display_name": "Python 3 (ipykernel)",
   "language": "python",
   "name": "python3"
  },
  "language_info": {
   "codemirror_mode": {
    "name": "ipython",
    "version": 3
   },
   "file_extension": ".py",
   "mimetype": "text/x-python",
   "name": "python",
   "nbconvert_exporter": "python",
   "pygments_lexer": "ipython3",
   "version": "3.9.7"
  },
  "toc": {
   "base_numbering": 1,
   "nav_menu": {},
   "number_sections": true,
   "sideBar": true,
   "skip_h1_title": false,
   "title_cell": "Table of Contents",
   "title_sidebar": "Contents",
   "toc_cell": false,
   "toc_position": {},
   "toc_section_display": true,
   "toc_window_display": false
  },
  "varInspector": {
   "cols": {
    "lenName": 16,
    "lenType": 16,
    "lenVar": 40
   },
   "kernels_config": {
    "python": {
     "delete_cmd_postfix": "",
     "delete_cmd_prefix": "del ",
     "library": "var_list.py",
     "varRefreshCmd": "print(var_dic_list())"
    },
    "r": {
     "delete_cmd_postfix": ") ",
     "delete_cmd_prefix": "rm(",
     "library": "var_list.r",
     "varRefreshCmd": "cat(var_dic_list()) "
    }
   },
   "types_to_exclude": [
    "module",
    "function",
    "builtin_function_or_method",
    "instance",
    "_Feature"
   ],
   "window_display": false
  }
 },
 "nbformat": 4,
 "nbformat_minor": 5
}
