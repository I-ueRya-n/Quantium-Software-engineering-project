{
 "cells": [
  {
   "cell_type": "code",
   "execution_count": 4,
   "id": "6aaae077",
   "metadata": {},
   "outputs": [
    {
     "name": "stderr",
     "output_type": "stream",
     "text": [
      "C:\\Users\\harik\\anaconda3\\lib\\site-packages\\pandas\\core\\indexing.py:1667: SettingWithCopyWarning:\n",
      "\n",
      "\n",
      "A value is trying to be set on a copy of a slice from a DataFrame.\n",
      "Try using .loc[row_indexer,col_indexer] = value instead\n",
      "\n",
      "See the caveats in the documentation: https://pandas.pydata.org/pandas-docs/stable/user_guide/indexing.html#returning-a-view-versus-a-copy\n",
      "\n"
     ]
    }
   ],
   "source": [
    "from Task4 import app\n",
    "def test_header(dash_duo):\n",
    "    dash_duo.start_server(app)\n",
    "    dash_duo.wait_for_element(\"#header\", timeout=10)\n",
    "\n",
    "\n",
    "def test_line_chart(dash_duo):\n",
    "    dash_duo.start_server(app)\n",
    "    dash_duo.wait_for_element(\"#line-chart\", timeout=10)\n",
    "\n",
    "\n",
    "def test_region_selector(dash_duo):\n",
    "    dash_duo.start_server(app)\n",
    "    dash_duo.wait_for_element(\"#region-selector\", timeout=10)"
   ]
  },
  {
   "cell_type": "code",
   "execution_count": null,
   "id": "ab9685d1",
   "metadata": {},
   "outputs": [],
   "source": []
  }
 ],
 "metadata": {
  "kernelspec": {
   "display_name": "Python 3 (ipykernel)",
   "language": "python",
   "name": "python3"
  },
  "language_info": {
   "codemirror_mode": {
    "name": "ipython",
    "version": 3
   },
   "file_extension": ".py",
   "mimetype": "text/x-python",
   "name": "python",
   "nbconvert_exporter": "python",
   "pygments_lexer": "ipython3",
   "version": "3.9.7"
  }
 },
 "nbformat": 4,
 "nbformat_minor": 5
}
