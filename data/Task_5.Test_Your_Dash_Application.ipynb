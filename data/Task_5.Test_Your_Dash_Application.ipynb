{
 "cells": [
  {
   "cell_type": "markdown",
   "metadata": {},
   "source": [
    "## Here is your task\n",
    "\n",
    "1. Your task is to create a test suite to verify your Dash app is working as expected. Using the standard Dash testing framework (documentation linked in the resources below) write three tests which ensure the following:\n",
    "The header is present.\n",
    "The visualisation is present.\n",
    "The region picker is present.\n",
    "\n",
    "2. Execute your test suite using Pytest and ensure each test passes."
   ]
  },
  {
   "cell_type": "code",
   "execution_count": 2,
   "metadata": {},
   "outputs": [],
   "source": [
    "from selenium.webdriver.common.by import By\n",
    "import dash.testing.wait as wait\n",
    "from dash.testing.application_runners import import_app\n",
    "\n",
    "\n",
    "def test_header_presence(dash_duo):\n",
    "    app = import_app(\"app\")\n",
    "    dash_duo.start_server(app)\n",
    "\n",
    "    # Check for header presence by text\n",
    "    header = dash_duo.find_element(\"h1\")\n",
    "    assert header.text == \"Sales Visualizer for Soul Foods\", \"The header should be present and correct.\"\n",
    "\n",
    "\n",
    "def test_visualisation_presence(dash_duo):\n",
    "    app = import_app(\"app\")\n",
    "    dash_duo.start_server(app)\n",
    "\n",
    "    # Check for the presence of the Plotly graph\n",
    "    wait.until(\n",
    "        lambda: dash_duo.find_element(\"#sales-line-chart .plotly-graph-div\"),\n",
    "        timeout=10,\n",
    "    ), \"The visualization should be present.\"\n",
    "\n",
    "\n",
    "def test_region_picker_presence(dash_duo):\n",
    "    app = import_app(\"app\")\n",
    "    dash_duo.start_server(app)\n",
    "\n",
    "    # Check for the region picker radio items\n",
    "    region_picker = dash_duo.find_element(\"#region-selector\")\n",
    "    assert region_picker, \"The region picker should be present.\"\n",
    "\n",
    "    # Optionally, verify that all expected radio items are present\n",
    "    radio_items = dash_duo.find_elements(By.CSS_SELECTOR, \"#region-selector label\")\n",
    "    expected_labels = ['North', 'East', 'South', 'West', 'All']\n",
    "    assert len(radio_items) == len(expected_labels), \"All region picker options should be present.\"\n"
   ]
  },
  {
   "cell_type": "code",
   "execution_count": null,
   "metadata": {},
   "outputs": [],
   "source": []
  }
 ],
 "metadata": {
  "kernelspec": {
   "display_name": "quantium",
   "language": "python",
   "name": "python3"
  },
  "language_info": {
   "codemirror_mode": {
    "name": "ipython",
    "version": 3
   },
   "file_extension": ".py",
   "mimetype": "text/x-python",
   "name": "python",
   "nbconvert_exporter": "python",
   "pygments_lexer": "ipython3",
   "version": "3.12.0"
  }
 },
 "nbformat": 4,
 "nbformat_minor": 2
}
