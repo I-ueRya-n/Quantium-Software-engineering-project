{
 "cells": [
  {
   "cell_type": "markdown",
   "metadata": {},
   "source": [
    "## Here is your task\n",
    "\n",
    "\n",
    "1. Soul Foods would like a way to dig into region-specific sales data for Pink Morsels. To this end, they’d like a radio button in your visualiser which allows them to filter sales data by region. Leaning on the resources linked below, add a radio button with five options to narrow which data appear in the line chart: “north,” “east,” “south,” “west,” and “all.”\n",
    " \n",
    "2. Now it’s time to dress up your Dash app! Apply some CSS to each element to make your application more visually appealing. There are no requirements for this step other than that you put effort into making your visualiser interesting. The model answer contains an example styling, but the possibilities are infinite — make your visualiser your own!"
   ]
  },
  {
   "cell_type": "code",
   "execution_count": 1,
   "metadata": {},
   "outputs": [
    {
     "data": {
      "text/html": [
       "\n",
       "        <iframe\n",
       "            width=\"100%\"\n",
       "            height=\"650\"\n",
       "            src=\"http://127.0.0.1:8050/\"\n",
       "            frameborder=\"0\"\n",
       "            allowfullscreen\n",
       "            \n",
       "        ></iframe>\n",
       "        "
      ],
      "text/plain": [
       "<IPython.lib.display.IFrame at 0x1d1ff1ff9b0>"
      ]
     },
     "metadata": {},
     "output_type": "display_data"
    }
   ],
   "source": [
    "import dash\n",
    "from dash import dcc, html, Input, Output\n",
    "import pandas as pd\n",
    "import plotly.express as px\n",
    "\n",
    "# Read the data\n",
    "df = pd.read_csv('formatted_data.csv', sep=';', parse_dates=['date'])\n",
    "# Ensure your CSV has a 'region' column to filter by region\n",
    "\n",
    "# Initialize the Dash app\n",
    "app = dash.Dash(__name__)\n",
    "\n",
    "# Define the layout of the app\n",
    "app.layout = html.Div(children=[\n",
    "    html.H1(children='Sales Visualizer for Soul Foods'),\n",
    "\n",
    "    html.Label('Select Region:'),\n",
    "    dcc.RadioItems(\n",
    "        id='region-selector',\n",
    "        options=[\n",
    "            {'label': 'North', 'value': 'north'},\n",
    "            {'label': 'East', 'value': 'east'},\n",
    "            {'label': 'South', 'value': 'south'},\n",
    "            {'label': 'West', 'value': 'west'},\n",
    "            {'label': 'All', 'value': 'all'}\n",
    "        ],\n",
    "        value='all',  # Default value\n",
    "        style={\"padding\": \"20px\"}\n",
    "    ),\n",
    "\n",
    "    dcc.Graph(id='sales-line-chart')\n",
    "])\n",
    "\n",
    "# Callback to update line chart based on selected region\n",
    "@app.callback(\n",
    "    Output('sales-line-chart', 'figure'),\n",
    "    Input('region-selector', 'value')\n",
    ")\n",
    "def update_figure(selected_region):\n",
    "    filtered_df = df if selected_region == 'all' else df[df['region'] == selected_region]\n",
    "    \n",
    "    # Create a line chart\n",
    "    fig = px.line(filtered_df, x='date', y='sales', title='Pink Morsels Sales Over Time',\n",
    "                  labels={'sales': 'Sales', 'date': 'Date'})\n",
    "    \n",
    "    # Highlight the date of price increase\n",
    "    fig.add_vline(x='2021-01-15', line_width=2, line_dash=\"dash\", line_color=\"red\")\n",
    "    \n",
    "    return fig\n",
    "\n",
    "if __name__ == '__main__':\n",
    "    app.run_server(debug=True)"
   ]
  }
 ],
 "metadata": {
  "kernelspec": {
   "display_name": "quantium",
   "language": "python",
   "name": "python3"
  },
  "language_info": {
   "codemirror_mode": {
    "name": "ipython",
    "version": 3
   },
   "file_extension": ".py",
   "mimetype": "text/x-python",
   "name": "python",
   "nbconvert_exporter": "python",
   "pygments_lexer": "ipython3",
   "version": "3.12.0"
  }
 },
 "nbformat": 4,
 "nbformat_minor": 2
}
