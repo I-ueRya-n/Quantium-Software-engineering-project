{
 "cells": [
  {
   "cell_type": "markdown",
   "metadata": {},
   "source": [
    "## Here is your task\n",
    "\n",
    "1. Your task is to create a Dash app to visualise the data you generated in the last task. Lean on the resources linked below to learn more about the basics of working with Dash. Your application must incorporate the following elements:\n",
    "    * A header which appropriately titles the visualiser;\n",
    "    * A line chart which visualises the sales data generated in the last task, sorted by date. Be sure to include appropriate axis labels for the chart.\n",
    " \n",
    "2. Recall the original purpose of the Dash app you are building — the goal is to answer Soul Foods’s question: “Were sales higher before or after the Pink Morsel price increase on the 15th of January, 2021?” With the visualiser complete, the answer should be obvious. Congratulations, you just answered a pertinent business question using the awesome power of quantitative data. Soul Foods will be pleased to hear all about it!"
   ]
  },
  {
   "cell_type": "code",
   "execution_count": 2,
   "metadata": {},
   "outputs": [],
   "source": [
    "import dash\n",
    "from dash import dcc\n",
    "from dash import html\n",
    "import pandas as pd\n",
    "import plotly.express as px\n",
    "\n",
    "# Read the data\n",
    "df = pd.read_csv('formatted_data.csv', sep=';',parse_dates=['date'])\n",
    "\n"
   ]
  },
  {
   "cell_type": "code",
   "execution_count": 5,
   "metadata": {},
   "outputs": [
    {
     "data": {
      "text/html": [
       "\n",
       "        <iframe\n",
       "            width=\"100%\"\n",
       "            height=\"650\"\n",
       "            src=\"http://127.0.0.1:8050/\"\n",
       "            frameborder=\"0\"\n",
       "            allowfullscreen\n",
       "            \n",
       "        ></iframe>\n",
       "        "
      ],
      "text/plain": [
       "<IPython.lib.display.IFrame at 0x1e32398c290>"
      ]
     },
     "metadata": {},
     "output_type": "display_data"
    }
   ],
   "source": [
    "# Initialize the Dash app\n",
    "app = dash.Dash(__name__)\n",
    "\n",
    "# Create a Plotly Express line chart\n",
    "fig = px.line(df, x='date', y='sales', title='Pink Morsels Sales Over Time',\n",
    "              labels={'Sales':'Sales','Date':'Date'})\n",
    "\n",
    "# Highlight the date of price increase\n",
    "fig.add_vline(x='2021-01-15', line_width=2, line_dash=\"dash\", line_color=\"red\")\n",
    "\n",
    "# Define the layout of the app\n",
    "app.layout = html.Div(children=[\n",
    "    html.H1(children='Sales Visualizer for Soul Foods'),\n",
    "    dcc.Graph(\n",
    "        id='sales-line-chart',\n",
    "        figure=fig\n",
    "    )\n",
    "])\n",
    "\n",
    "if __name__ == '__main__':\n",
    "    app.run_server(debug=True)\n"
   ]
  }
 ],
 "metadata": {
  "kernelspec": {
   "display_name": "quantium",
   "language": "python",
   "name": "python3"
  },
  "language_info": {
   "codemirror_mode": {
    "name": "ipython",
    "version": 3
   },
   "file_extension": ".py",
   "mimetype": "text/x-python",
   "name": "python",
   "nbconvert_exporter": "python",
   "pygments_lexer": "ipython3",
   "version": "3.12.0"
  }
 },
 "nbformat": 4,
 "nbformat_minor": 2
}
